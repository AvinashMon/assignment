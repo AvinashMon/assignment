{
 "cells": [
  {
   "cell_type": "code",
   "execution_count": 1,
   "id": "b44049ef-209d-434b-8cdd-bdcc255fbb28",
   "metadata": {},
   "outputs": [
    {
     "name": "stdout",
     "output_type": "stream",
     "text": [
      "avinash\n"
     ]
    }
   ],
   "source": [
    "print(\"avinash\")"
   ]
  },
  {
   "cell_type": "code",
   "execution_count": 2,
   "id": "2d20d306-1e5b-4adf-8ead-987ecb8c8c77",
   "metadata": {},
   "outputs": [
    {
     "name": "stdout",
     "output_type": "stream",
     "text": [
      "sudanshu sir is my sir \n"
     ]
    }
   ],
   "source": [
    "print(\"sudanshu sir is my sir \")"
   ]
  },
  {
   "cell_type": "code",
   "execution_count": 9,
   "id": "17e02704-e888-4f00-ad5a-e454cb049f86",
   "metadata": {},
   "outputs": [
    {
     "data": {
      "text/plain": [
       "[True, 'green', 'blue', 1, 2, 3, True, False, (3+2j)]"
      ]
     },
     "execution_count": 9,
     "metadata": {},
     "output_type": "execute_result"
    }
   ],
   "source": [
    "l=[True,\"green\",\"blue\",1,2,3,True,False,3+2j]\n",
    "l"
   ]
  },
  {
   "cell_type": "code",
   "execution_count": 10,
   "id": "f0e83d56-b20a-4f81-bafa-21c119c0f8ca",
   "metadata": {},
   "outputs": [
    {
     "data": {
      "text/plain": [
       "list"
      ]
     },
     "execution_count": 10,
     "metadata": {},
     "output_type": "execute_result"
    }
   ],
   "source": [
    "type(l)"
   ]
  },
  {
   "cell_type": "code",
   "execution_count": 11,
   "id": "49dc560c-c290-43e1-b3ec-b5ac05890373",
   "metadata": {},
   "outputs": [
    {
     "data": {
      "text/plain": [
       "True"
      ]
     },
     "execution_count": 11,
     "metadata": {},
     "output_type": "execute_result"
    }
   ],
   "source": [
    "l[0]"
   ]
  },
  {
   "cell_type": "code",
   "execution_count": 12,
   "id": "9d3fc749-d753-432a-bb04-2759659d8707",
   "metadata": {},
   "outputs": [
    {
     "data": {
      "text/plain": [
       "'green'"
      ]
     },
     "execution_count": 12,
     "metadata": {},
     "output_type": "execute_result"
    }
   ],
   "source": [
    "l[1]"
   ]
  },
  {
   "cell_type": "code",
   "execution_count": 13,
   "id": "c050b533-da5a-44c7-af26-f8a8fda1a8ec",
   "metadata": {},
   "outputs": [
    {
     "data": {
      "text/plain": [
       "'blue'"
      ]
     },
     "execution_count": 13,
     "metadata": {},
     "output_type": "execute_result"
    }
   ],
   "source": [
    "l[2]"
   ]
  },
  {
   "cell_type": "code",
   "execution_count": 14,
   "id": "ead7a18f-3631-4512-9413-3b12ceaf8551",
   "metadata": {},
   "outputs": [
    {
     "data": {
      "text/plain": [
       "1"
      ]
     },
     "execution_count": 14,
     "metadata": {},
     "output_type": "execute_result"
    }
   ],
   "source": [
    "l[3]"
   ]
  },
  {
   "cell_type": "code",
   "execution_count": 15,
   "id": "4b55447f-9474-49eb-b08a-f2b57b4d6667",
   "metadata": {},
   "outputs": [
    {
     "data": {
      "text/plain": [
       "True"
      ]
     },
     "execution_count": 15,
     "metadata": {},
     "output_type": "execute_result"
    }
   ],
   "source": [
    "l[6]"
   ]
  },
  {
   "cell_type": "code",
   "execution_count": 16,
   "id": "a115bef3-35d5-4f26-86a9-aa98cde11b4f",
   "metadata": {},
   "outputs": [
    {
     "data": {
      "text/plain": [
       "(3+2j)"
      ]
     },
     "execution_count": 16,
     "metadata": {},
     "output_type": "execute_result"
    }
   ],
   "source": [
    "l[8]"
   ]
  },
  {
   "cell_type": "code",
   "execution_count": 17,
   "id": "383b42a4-3ec8-4558-8b6a-ebe797fc73bd",
   "metadata": {},
   "outputs": [
    {
     "ename": "IndexError",
     "evalue": "list index out of range",
     "output_type": "error",
     "traceback": [
      "\u001b[0;31m---------------------------------------------------------------------------\u001b[0m",
      "\u001b[0;31mIndexError\u001b[0m                                Traceback (most recent call last)",
      "Cell \u001b[0;32mIn[17], line 1\u001b[0m\n\u001b[0;32m----> 1\u001b[0m \u001b[43ml\u001b[49m\u001b[43m[\u001b[49m\u001b[38;5;241;43m90\u001b[39;49m\u001b[43m]\u001b[49m\n",
      "\u001b[0;31mIndexError\u001b[0m: list index out of range"
     ]
    }
   ],
   "source": [
    "l[90]"
   ]
  },
  {
   "cell_type": "code",
   "execution_count": 18,
   "id": "9add4887-4157-4281-bbcc-48b536ce5f64",
   "metadata": {},
   "outputs": [
    {
     "ename": "TypeError",
     "evalue": "object of type 'type' has no len()",
     "output_type": "error",
     "traceback": [
      "\u001b[0;31m---------------------------------------------------------------------------\u001b[0m",
      "\u001b[0;31mTypeError\u001b[0m                                 Traceback (most recent call last)",
      "Cell \u001b[0;32mIn[18], line 1\u001b[0m\n\u001b[0;32m----> 1\u001b[0m \u001b[38;5;28mprint\u001b[39m(\u001b[38;5;28;43mlen\u001b[39;49m\u001b[43m(\u001b[49m\u001b[38;5;28;43mlist\u001b[39;49m\u001b[43m)\u001b[49m)\n",
      "\u001b[0;31mTypeError\u001b[0m: object of type 'type' has no len()"
     ]
    }
   ],
   "source": [
    "print(len(list))"
   ]
  },
  {
   "cell_type": "code",
   "execution_count": 19,
   "id": "1f2a692d-9dc6-49a7-9f4b-91cac5134a3d",
   "metadata": {},
   "outputs": [
    {
     "data": {
      "text/plain": [
       "[True, 'green', 'blue']"
      ]
     },
     "execution_count": 19,
     "metadata": {},
     "output_type": "execute_result"
    }
   ],
   "source": [
    "l[0:3]"
   ]
  },
  {
   "cell_type": "code",
   "execution_count": 20,
   "id": "f642063f-d358-4919-ab54-c3d501145145",
   "metadata": {},
   "outputs": [
    {
     "data": {
      "text/plain": [
       "[1, 345, 45, 'avinash', True, (5+3j), 345.678]"
      ]
     },
     "execution_count": 20,
     "metadata": {},
     "output_type": "execute_result"
    }
   ],
   "source": [
    "l=[1,345,45,\"avinash\",True,(5+3j),345.678]\n",
    "l\n"
   ]
  },
  {
   "cell_type": "code",
   "execution_count": 21,
   "id": "e103782c-06c1-45e7-9193-f9ce91d2be14",
   "metadata": {},
   "outputs": [
    {
     "data": {
      "text/plain": [
       "[1, 345, 45]"
      ]
     },
     "execution_count": 21,
     "metadata": {},
     "output_type": "execute_result"
    }
   ],
   "source": [
    "l[0:3]"
   ]
  },
  {
   "cell_type": "code",
   "execution_count": 22,
   "id": "3304d597-c7fe-4c8f-81dc-374d8047bc25",
   "metadata": {},
   "outputs": [
    {
     "data": {
      "text/plain": [
       "[1, 345, 45, 'avinash', True, (5+3j), 345.678]"
      ]
     },
     "execution_count": 22,
     "metadata": {},
     "output_type": "execute_result"
    }
   ],
   "source": [
    "l[0:7]"
   ]
  },
  {
   "cell_type": "code",
   "execution_count": 23,
   "id": "f44a6038-c810-4ea6-b257-cf08806316d9",
   "metadata": {},
   "outputs": [
    {
     "data": {
      "text/plain": [
       "345.678"
      ]
     },
     "execution_count": 23,
     "metadata": {},
     "output_type": "execute_result"
    }
   ],
   "source": [
    "l[-1]"
   ]
  },
  {
   "cell_type": "code",
   "execution_count": 24,
   "id": "0303fa3c-28f4-4a4c-942a-821a409d297b",
   "metadata": {},
   "outputs": [
    {
     "data": {
      "text/plain": [
       "[345.678, (5+3j), True, 'avinash', 45, 345, 1]"
      ]
     },
     "execution_count": 24,
     "metadata": {},
     "output_type": "execute_result"
    }
   ],
   "source": [
    "l[::-1]"
   ]
  },
  {
   "cell_type": "code",
   "execution_count": 25,
   "id": "8d161653-e0cb-4353-a3a3-b87eb178945f",
   "metadata": {},
   "outputs": [
    {
     "data": {
      "text/plain": [
       "[345.678, True, 45, 1]"
      ]
     },
     "execution_count": 25,
     "metadata": {},
     "output_type": "execute_result"
    }
   ],
   "source": [
    "l[::-2]"
   ]
  },
  {
   "cell_type": "code",
   "execution_count": 26,
   "id": "1dd90513-7e67-43a3-b990-25e3278def71",
   "metadata": {},
   "outputs": [
    {
     "data": {
      "text/plain": [
       "[1, 45, True, 345.678]"
      ]
     },
     "execution_count": 26,
     "metadata": {},
     "output_type": "execute_result"
    }
   ],
   "source": [
    "l[::2]"
   ]
  },
  {
   "cell_type": "code",
   "execution_count": 27,
   "id": "506ca603-9cd1-40a0-bc30-a7fa7c94650b",
   "metadata": {},
   "outputs": [
    {
     "ename": "TypeError",
     "evalue": "can only concatenate list (not \"str\") to list",
     "output_type": "error",
     "traceback": [
      "\u001b[0;31m---------------------------------------------------------------------------\u001b[0m",
      "\u001b[0;31mTypeError\u001b[0m                                 Traceback (most recent call last)",
      "Cell \u001b[0;32mIn[27], line 2\u001b[0m\n\u001b[1;32m      1\u001b[0m s\u001b[38;5;241m=\u001b[39m\u001b[38;5;124m\"\u001b[39m\u001b[38;5;124mpwskills\u001b[39m\u001b[38;5;124m\"\u001b[39m\n\u001b[0;32m----> 2\u001b[0m l\u001b[38;5;241m=\u001b[39m\u001b[43ml\u001b[49m\u001b[38;5;241;43m+\u001b[39;49m\u001b[43ms\u001b[49m\n\u001b[1;32m      3\u001b[0m l\n",
      "\u001b[0;31mTypeError\u001b[0m: can only concatenate list (not \"str\") to list"
     ]
    }
   ],
   "source": [
    "s=\"pwskills\"\n",
    "l=l+s\n",
    "l"
   ]
  },
  {
   "cell_type": "code",
   "execution_count": 28,
   "id": "2975ccfa-105c-459d-9ba1-f417ec65ae45",
   "metadata": {},
   "outputs": [
    {
     "data": {
      "text/plain": [
       "[1,\n",
       " 345,\n",
       " 45,\n",
       " 'avinash',\n",
       " True,\n",
       " (5+3j),\n",
       " 345.678,\n",
       " 'p',\n",
       " 'w',\n",
       " 's',\n",
       " 'k',\n",
       " 'i',\n",
       " 'l',\n",
       " 'l',\n",
       " 's']"
      ]
     },
     "execution_count": 28,
     "metadata": {},
     "output_type": "execute_result"
    }
   ],
   "source": [
    "s=list(\"pwskills\")\n",
    "l=l+s\n",
    "l\n"
   ]
  },
  {
   "cell_type": "code",
   "execution_count": 29,
   "id": "e55d4e0e-029a-402a-be41-054f0b63499e",
   "metadata": {},
   "outputs": [],
   "source": [
    "l.append(\"pwskills\")"
   ]
  },
  {
   "cell_type": "code",
   "execution_count": 31,
   "id": "5e262e92-eefb-4ada-b5c3-f89fa4a5c734",
   "metadata": {},
   "outputs": [
    {
     "data": {
      "text/plain": [
       "[1, 345, 45, 'avinash', True, (5+3j), 345.678]"
      ]
     },
     "execution_count": 31,
     "metadata": {},
     "output_type": "execute_result"
    }
   ],
   "source": [
    "l=[1,345,45,\"avinash\",True,(5+3j),345.678]\n",
    "l"
   ]
  },
  {
   "cell_type": "code",
   "execution_count": 32,
   "id": "ec0fa2e0-f6f3-41e0-9186-37e331962f72",
   "metadata": {},
   "outputs": [
    {
     "data": {
      "text/plain": [
       "True"
      ]
     },
     "execution_count": 32,
     "metadata": {},
     "output_type": "execute_result"
    }
   ],
   "source": [
    "l[4]"
   ]
  },
  {
   "cell_type": "code",
   "execution_count": 33,
   "id": "c437e9e6-8319-4402-aff0-5583ecac9dde",
   "metadata": {},
   "outputs": [
    {
     "data": {
      "text/plain": [
       "'avinash'"
      ]
     },
     "execution_count": 33,
     "metadata": {},
     "output_type": "execute_result"
    }
   ],
   "source": [
    "l[3]"
   ]
  },
  {
   "cell_type": "code",
   "execution_count": 34,
   "id": "d4c1dcc1-9d87-4724-9d89-1460042b8896",
   "metadata": {},
   "outputs": [
    {
     "ename": "TypeError",
     "evalue": "slice indices must be integers or None or have an __index__ method",
     "output_type": "error",
     "traceback": [
      "\u001b[0;31m---------------------------------------------------------------------------\u001b[0m",
      "\u001b[0;31mTypeError\u001b[0m                                 Traceback (most recent call last)",
      "Cell \u001b[0;32mIn[34], line 1\u001b[0m\n\u001b[0;32m----> 1\u001b[0m \u001b[43ml\u001b[49m\u001b[43m[\u001b[49m\u001b[38;5;241;43m3\u001b[39;49m\u001b[43m:\u001b[49m\u001b[38;5;241;43m.3\u001b[39;49m\u001b[43m]\u001b[49m\n",
      "\u001b[0;31mTypeError\u001b[0m: slice indices must be integers or None or have an __index__ method"
     ]
    }
   ],
   "source": [
    "l[3:.3]"
   ]
  },
  {
   "cell_type": "code",
   "execution_count": 35,
   "id": "8fed952d-30e7-40d5-a40b-573c7807eaf5",
   "metadata": {},
   "outputs": [
    {
     "data": {
      "text/plain": [
       "'avinash'"
      ]
     },
     "execution_count": 35,
     "metadata": {},
     "output_type": "execute_result"
    }
   ],
   "source": [
    "l[3]"
   ]
  },
  {
   "cell_type": "code",
   "execution_count": 36,
   "id": "8cedfca1-dec5-413b-bfda-0e7b55c5c014",
   "metadata": {},
   "outputs": [],
   "source": [
    "a=str(l[3])"
   ]
  },
  {
   "cell_type": "code",
   "execution_count": null,
   "id": "d8c86295-d96d-4c39-9a36-344e2ce30e90",
   "metadata": {},
   "outputs": [],
   "source": [
    "a=[45,3,\"sudh\",[2,3,4],[2,3,4],4,45,5]"
   ]
  },
  {
   "cell_type": "code",
   "execution_count": 119,
   "id": "d5489a03-96af-4a0e-966b-afe51efaec98",
   "metadata": {},
   "outputs": [
    {
     "data": {
      "text/plain": [
       "'uniniuniniuniniuniniuniniuniniuniniuniniuniniuniniuniniuniniuniniuniniuniniuniniuniniuniniuniniuniniuniniuniniuniniuniniuniniuniniuniniuniniuniniuniniuniniuniniuniniuniniuniniuniniuniniuniniuniniuniniuniniuniniuniniuniniuniniuniniuniniuniniuniniuniniuniniuniniuniniuniniuniniuniniuniniuniniuniniuniniuniniuniniuniniuniniuniniuniniuniniuniniuniniuniniuniniuniniuniniuniniuniniuniniuniniuniniuniniuniniuniniuniniuniniuniniuniniuniniuniniuniniuniniuniniuniniuniniuniniuniniuniniuniniuniniuniniuniniunini'"
      ]
     },
     "execution_count": 119,
     "metadata": {},
     "output_type": "execute_result"
    }
   ],
   "source": [
    "a"
   ]
  },
  {
   "cell_type": "code",
   "execution_count": 120,
   "id": "2e97c65f-25aa-4d2b-b8a3-79abf7b7f686",
   "metadata": {},
   "outputs": [
    {
     "data": {
      "text/plain": [
       "'uniniuniniuniniuniniuniniuniniuniniuniniuniniuniniuniniuniniuniniuniniuniniuniniuniniuniniuniniuniniuniniuniniuniniuniniuniniuniniuniniuniniuniniuniniuniniuniniuniniuniniuniniuniniuniniuniniuniniuniniuniniuniniuniniuniniuniniuniniuniniuniniuniniuniniuniniuniniuniniuniniuniniuniniuniniuniniuniniuniniuniniuniniuniniuniniuniniuniniuniniuniniuniniuniniuniniuniniuniniuniniuniniuniniuniniuniniuniniuniniuniniuniniuniniuniniuniniuniniuniniuniniuniniuniniuniniuniniuniniuniniuniniuniniuniniuniniuniniunini'"
      ]
     },
     "execution_count": 120,
     "metadata": {},
     "output_type": "execute_result"
    }
   ],
   "source": [
    "a"
   ]
  },
  {
   "cell_type": "code",
   "execution_count": 121,
   "id": "82ed933f-40a5-4c04-b19e-ade0fda1b4fc",
   "metadata": {},
   "outputs": [],
   "source": [
    "l2=[45,3,\"sudh\",[2,3,4],4,45,5]"
   ]
  },
  {
   "cell_type": "code",
   "execution_count": 122,
   "id": "98143390-e51a-43fc-b803-bb4dcd04a0ee",
   "metadata": {},
   "outputs": [
    {
     "data": {
      "text/plain": [
       "[45, 3, 'sudh', [2, 3, 4], 4, 45, 5]"
      ]
     },
     "execution_count": 122,
     "metadata": {},
     "output_type": "execute_result"
    }
   ],
   "source": [
    "l2"
   ]
  },
  {
   "cell_type": "code",
   "execution_count": 123,
   "id": "087ead7b-70ac-40f1-afc8-bdf1ca1de12d",
   "metadata": {},
   "outputs": [
    {
     "data": {
      "text/plain": [
       "[2, 3, 4]"
      ]
     },
     "execution_count": 123,
     "metadata": {},
     "output_type": "execute_result"
    }
   ],
   "source": [
    "l2.pop(3)"
   ]
  },
  {
   "cell_type": "code",
   "execution_count": 124,
   "id": "6220e1ea-a9d4-41ed-a22b-9aa2001fb5f8",
   "metadata": {},
   "outputs": [
    {
     "data": {
      "text/plain": [
       "[45, 3, 'sudh', 4, 45, 5]"
      ]
     },
     "execution_count": 124,
     "metadata": {},
     "output_type": "execute_result"
    }
   ],
   "source": [
    "l2"
   ]
  },
  {
   "cell_type": "code",
   "execution_count": 125,
   "id": "8f094d72-0c4a-4922-b01f-d8b181eb3615",
   "metadata": {},
   "outputs": [],
   "source": [
    "l2.remove(4)"
   ]
  },
  {
   "cell_type": "code",
   "execution_count": 126,
   "id": "0160f28e-2d58-4dab-a9be-1d421aa8f183",
   "metadata": {},
   "outputs": [
    {
     "data": {
      "text/plain": [
       "[45, 3, 'sudh', 45, 5]"
      ]
     },
     "execution_count": 126,
     "metadata": {},
     "output_type": "execute_result"
    }
   ],
   "source": [
    "l2"
   ]
  },
  {
   "cell_type": "code",
   "execution_count": 127,
   "id": "676b09c5-a0fa-49d0-be8c-17d27f02b138",
   "metadata": {},
   "outputs": [],
   "source": [
    "l2.remove(45)"
   ]
  },
  {
   "cell_type": "code",
   "execution_count": 128,
   "id": "d3d20570-2f83-403a-a836-8a6bde9cbc57",
   "metadata": {},
   "outputs": [
    {
     "data": {
      "text/plain": [
       "[3, 'sudh', 45, 5]"
      ]
     },
     "execution_count": 128,
     "metadata": {},
     "output_type": "execute_result"
    }
   ],
   "source": [
    "l2"
   ]
  },
  {
   "cell_type": "code",
   "execution_count": 129,
   "id": "1bde7687-c187-4d02-87af-a0f22bc88142",
   "metadata": {},
   "outputs": [
    {
     "ename": "ValueError",
     "evalue": "list.remove(x): x not in list",
     "output_type": "error",
     "traceback": [
      "\u001b[0;31m---------------------------------------------------------------------------\u001b[0m",
      "\u001b[0;31mValueError\u001b[0m                                Traceback (most recent call last)",
      "Cell \u001b[0;32mIn[129], line 1\u001b[0m\n\u001b[0;32m----> 1\u001b[0m \u001b[43ml2\u001b[49m\u001b[38;5;241;43m.\u001b[39;49m\u001b[43mremove\u001b[49m\u001b[43m(\u001b[49m\u001b[38;5;241;43m234\u001b[39;49m\u001b[43m)\u001b[49m\n",
      "\u001b[0;31mValueError\u001b[0m: list.remove(x): x not in list"
     ]
    }
   ],
   "source": [
    "l2.remove(234)"
   ]
  },
  {
   "cell_type": "code",
   "execution_count": 130,
   "id": "003f0159-e9f7-435f-96da-6a32abc78476",
   "metadata": {},
   "outputs": [],
   "source": [
    "l2=[45,\"sudh\",[2,3,4],3]"
   ]
  },
  {
   "cell_type": "code",
   "execution_count": 131,
   "id": "69ee6db5-3187-48af-b9d7-195c06b008ed",
   "metadata": {},
   "outputs": [
    {
     "data": {
      "text/plain": [
       "[45, 'sudh', [2, 3, 4], 3]"
      ]
     },
     "execution_count": 131,
     "metadata": {},
     "output_type": "execute_result"
    }
   ],
   "source": [
    "l2"
   ]
  },
  {
   "cell_type": "code",
   "execution_count": 133,
   "id": "f2b307cc-cb0b-4921-8bae-6a9d272c2629",
   "metadata": {},
   "outputs": [],
   "source": [
    "l2[2].remove(3)"
   ]
  },
  {
   "cell_type": "code",
   "execution_count": 134,
   "id": "ce287f51-2a56-4073-a72f-9e968ed60963",
   "metadata": {},
   "outputs": [
    {
     "data": {
      "text/plain": [
       "[45, 'sudh', [2, 4], 3]"
      ]
     },
     "execution_count": 134,
     "metadata": {},
     "output_type": "execute_result"
    }
   ],
   "source": [
    "l2"
   ]
  },
  {
   "cell_type": "code",
   "execution_count": 135,
   "id": "fbc9b81b-628f-4aea-a97a-a60467a57dd3",
   "metadata": {},
   "outputs": [
    {
     "ename": "AttributeError",
     "evalue": "'str' object has no attribute 'remove'",
     "output_type": "error",
     "traceback": [
      "\u001b[0;31m---------------------------------------------------------------------------\u001b[0m",
      "\u001b[0;31mAttributeError\u001b[0m                            Traceback (most recent call last)",
      "Cell \u001b[0;32mIn[135], line 1\u001b[0m\n\u001b[0;32m----> 1\u001b[0m \u001b[43ml2\u001b[49m\u001b[43m[\u001b[49m\u001b[38;5;241;43m1\u001b[39;49m\u001b[43m]\u001b[49m\u001b[38;5;241;43m.\u001b[39;49m\u001b[43mremove\u001b[49m(\u001b[38;5;124m\"\u001b[39m\u001b[38;5;124msu\u001b[39m\u001b[38;5;124m\"\u001b[39m)\n",
      "\u001b[0;31mAttributeError\u001b[0m: 'str' object has no attribute 'remove'"
     ]
    }
   ],
   "source": [
    "l2[1].remove(\"su\")"
   ]
  },
  {
   "cell_type": "code",
   "execution_count": 136,
   "id": "5a490d2f-9c85-4c3b-a2fd-0c2d4f2dc2d1",
   "metadata": {},
   "outputs": [
    {
     "ename": "SyntaxError",
     "evalue": "invalid syntax (1375889569.py, line 1)",
     "output_type": "error",
     "traceback": [
      "\u001b[0;36m  Cell \u001b[0;32mIn[136], line 1\u001b[0;36m\u001b[0m\n\u001b[0;31m    l2[2].remove([2:4])\u001b[0m\n\u001b[0m                   ^\u001b[0m\n\u001b[0;31mSyntaxError\u001b[0m\u001b[0;31m:\u001b[0m invalid syntax\n"
     ]
    }
   ],
   "source": [
    "l2[2].remove([2:4])\n",
    "l2"
   ]
  },
  {
   "cell_type": "code",
   "execution_count": 137,
   "id": "f3f0617c-9d38-4e7f-8b84-a9823738bff4",
   "metadata": {},
   "outputs": [
    {
     "ename": "AttributeError",
     "evalue": "'str' object has no attribute 'remove'",
     "output_type": "error",
     "traceback": [
      "\u001b[0;31m---------------------------------------------------------------------------\u001b[0m",
      "\u001b[0;31mAttributeError\u001b[0m                            Traceback (most recent call last)",
      "Cell \u001b[0;32mIn[137], line 1\u001b[0m\n\u001b[0;32m----> 1\u001b[0m \u001b[43ml2\u001b[49m\u001b[43m[\u001b[49m\u001b[38;5;241;43m1\u001b[39;49m\u001b[43m]\u001b[49m\u001b[38;5;241;43m.\u001b[39;49m\u001b[43mremove\u001b[49m(\u001b[38;5;124m\"\u001b[39m\u001b[38;5;124msu\u001b[39m\u001b[38;5;124m\"\u001b[39m)\n",
      "\u001b[0;31mAttributeError\u001b[0m: 'str' object has no attribute 'remove'"
     ]
    }
   ],
   "source": [
    "l2[1].remove(\"su\")"
   ]
  },
  {
   "cell_type": "code",
   "execution_count": 138,
   "id": "efe35503-bf76-4668-b9e4-1a4e7fbab31b",
   "metadata": {},
   "outputs": [
    {
     "ename": "SyntaxError",
     "evalue": "invalid syntax (2061613472.py, line 1)",
     "output_type": "error",
     "traceback": [
      "\u001b[0;36m  Cell \u001b[0;32mIn[138], line 1\u001b[0;36m\u001b[0m\n\u001b[0;31m    l2[1].[0:4]\u001b[0m\n\u001b[0m          ^\u001b[0m\n\u001b[0;31mSyntaxError\u001b[0m\u001b[0;31m:\u001b[0m invalid syntax\n"
     ]
    }
   ],
   "source": [
    "l2[1].[0:4]"
   ]
  },
  {
   "cell_type": "code",
   "execution_count": 139,
   "id": "bf07e226-4ebd-4c98-9644-40f6e429a423",
   "metadata": {},
   "outputs": [
    {
     "data": {
      "text/plain": [
       "'sudh'"
      ]
     },
     "execution_count": 139,
     "metadata": {},
     "output_type": "execute_result"
    }
   ],
   "source": [
    "l2[1][0:4]"
   ]
  },
  {
   "cell_type": "code",
   "execution_count": 140,
   "id": "4f306ff2-7b1a-4b6c-9baf-ce14d136fd29",
   "metadata": {},
   "outputs": [],
   "source": [
    "s=l2[1]"
   ]
  },
  {
   "cell_type": "code",
   "execution_count": 141,
   "id": "d845d4a3-069c-4170-83fa-49aa10e4c3e2",
   "metadata": {},
   "outputs": [],
   "source": [
    "p=str(s)\n"
   ]
  },
  {
   "cell_type": "code",
   "execution_count": 142,
   "id": "600dcade-05ce-4822-a1ca-65b72d1df3e5",
   "metadata": {},
   "outputs": [
    {
     "data": {
      "text/plain": [
       "str"
      ]
     },
     "execution_count": 142,
     "metadata": {},
     "output_type": "execute_result"
    }
   ],
   "source": [
    "type(p)"
   ]
  },
  {
   "cell_type": "code",
   "execution_count": 143,
   "id": "3e758cc1-8223-4871-8c96-33bac6cf2cb9",
   "metadata": {},
   "outputs": [
    {
     "data": {
      "text/plain": [
       "[45, 'sudh', [2, 4], 3]"
      ]
     },
     "execution_count": 143,
     "metadata": {},
     "output_type": "execute_result"
    }
   ],
   "source": [
    "l2"
   ]
  },
  {
   "cell_type": "code",
   "execution_count": 144,
   "id": "5c50e27b-e6eb-466e-8412-cedad3adda98",
   "metadata": {},
   "outputs": [],
   "source": [
    "l2.append(4)"
   ]
  },
  {
   "cell_type": "code",
   "execution_count": 146,
   "id": "50b43102-b57d-4405-89f5-1bc6b8709cc5",
   "metadata": {},
   "outputs": [
    {
     "data": {
      "text/plain": [
       "[45, 'sudh', [2, 4], 3]"
      ]
     },
     "execution_count": 146,
     "metadata": {},
     "output_type": "execute_result"
    }
   ],
   "source": [
    "l2"
   ]
  },
  {
   "cell_type": "code",
   "execution_count": 147,
   "id": "5054519b-7e99-42e6-ba17-7ecd89c14d75",
   "metadata": {},
   "outputs": [
    {
     "ename": "NameError",
     "evalue": "name 'reverse' is not defined",
     "output_type": "error",
     "traceback": [
      "\u001b[0;31m---------------------------------------------------------------------------\u001b[0m",
      "\u001b[0;31mNameError\u001b[0m                                 Traceback (most recent call last)",
      "Cell \u001b[0;32mIn[147], line 1\u001b[0m\n\u001b[0;32m----> 1\u001b[0m \u001b[38;5;28mprint\u001b[39m(\u001b[43mreverse\u001b[49m(l2))\n",
      "\u001b[0;31mNameError\u001b[0m: name 'reverse' is not defined"
     ]
    }
   ],
   "source": [
    "print(reverse(l2))"
   ]
  },
  {
   "cell_type": "code",
   "execution_count": 150,
   "id": "8dfa9c35-d736-4e15-8c76-648e8698dae8",
   "metadata": {},
   "outputs": [],
   "source": [
    "l2.reverse()"
   ]
  },
  {
   "cell_type": "code",
   "execution_count": 151,
   "id": "37ba41bd-b204-4b2a-9283-06a661984a8d",
   "metadata": {},
   "outputs": [
    {
     "data": {
      "text/plain": [
       "[3, [2, 4], 'sudh', 45]"
      ]
     },
     "execution_count": 151,
     "metadata": {},
     "output_type": "execute_result"
    }
   ],
   "source": [
    "l2"
   ]
  },
  {
   "cell_type": "code",
   "execution_count": 152,
   "id": "87160235-3781-4773-8026-645780fc3607",
   "metadata": {},
   "outputs": [
    {
     "ename": "NameError",
     "evalue": "name 'reverse' is not defined",
     "output_type": "error",
     "traceback": [
      "\u001b[0;31m---------------------------------------------------------------------------\u001b[0m",
      "\u001b[0;31mNameError\u001b[0m                                 Traceback (most recent call last)",
      "Cell \u001b[0;32mIn[152], line 1\u001b[0m\n\u001b[0;32m----> 1\u001b[0m l1\u001b[38;5;241m=\u001b[39m\u001b[43mreverse\u001b[49m(l1)\n",
      "\u001b[0;31mNameError\u001b[0m: name 'reverse' is not defined"
     ]
    }
   ],
   "source": [
    "l1=reverse(l1)"
   ]
  },
  {
   "cell_type": "code",
   "execution_count": 153,
   "id": "e0b703de-d46f-4dbd-96b8-ba63faa88c43",
   "metadata": {},
   "outputs": [
    {
     "data": {
      "text/plain": [
       "[3, 'sudh', [2, 3, 4], [2, 3, 4], 4, 45, 5, 4]"
      ]
     },
     "execution_count": 153,
     "metadata": {},
     "output_type": "execute_result"
    }
   ],
   "source": [
    "l1"
   ]
  },
  {
   "cell_type": "code",
   "execution_count": 154,
   "id": "40726a41-5940-45fa-b00f-65e9b355a977",
   "metadata": {},
   "outputs": [
    {
     "data": {
      "text/plain": [
       "[3, [2, 4], 'sudh', 45]"
      ]
     },
     "execution_count": 154,
     "metadata": {},
     "output_type": "execute_result"
    }
   ],
   "source": [
    "l2"
   ]
  },
  {
   "cell_type": "code",
   "execution_count": 155,
   "id": "5f59db4b-9c17-4052-b954-6ce2b50bdbd0",
   "metadata": {},
   "outputs": [
    {
     "ename": "TypeError",
     "evalue": "'<' not supported between instances of 'list' and 'int'",
     "output_type": "error",
     "traceback": [
      "\u001b[0;31m---------------------------------------------------------------------------\u001b[0m",
      "\u001b[0;31mTypeError\u001b[0m                                 Traceback (most recent call last)",
      "Cell \u001b[0;32mIn[155], line 1\u001b[0m\n\u001b[0;32m----> 1\u001b[0m \u001b[43ml2\u001b[49m\u001b[38;5;241;43m.\u001b[39;49m\u001b[43msort\u001b[49m\u001b[43m(\u001b[49m\u001b[43m)\u001b[49m\n",
      "\u001b[0;31mTypeError\u001b[0m: '<' not supported between instances of 'list' and 'int'"
     ]
    }
   ],
   "source": [
    "l2.sort()"
   ]
  },
  {
   "cell_type": "code",
   "execution_count": 156,
   "id": "4cd94d7e-a8b3-4170-ae30-d4573884eb7d",
   "metadata": {},
   "outputs": [],
   "source": [
    "l3=[4,1,2,3,45,67]\n",
    "l3.sort()"
   ]
  },
  {
   "cell_type": "code",
   "execution_count": 157,
   "id": "5c615e98-a998-4467-bdc2-53af37c4c4d3",
   "metadata": {},
   "outputs": [
    {
     "data": {
      "text/plain": [
       "[1, 2, 3, 4, 45, 67]"
      ]
     },
     "execution_count": 157,
     "metadata": {},
     "output_type": "execute_result"
    }
   ],
   "source": [
    "l3"
   ]
  },
  {
   "cell_type": "code",
   "execution_count": 158,
   "id": "ad87c237-640f-462d-b560-97e457ef75df",
   "metadata": {},
   "outputs": [],
   "source": [
    "l4=[\"fdgd\",\"gteg\",\"gtgrg\"]\n",
    "l4.sort()\n"
   ]
  },
  {
   "cell_type": "code",
   "execution_count": 159,
   "id": "9df076cb-1eef-4ce2-b161-e8f82c046200",
   "metadata": {},
   "outputs": [
    {
     "data": {
      "text/plain": [
       "['fdgd', 'gteg', 'gtgrg']"
      ]
     },
     "execution_count": 159,
     "metadata": {},
     "output_type": "execute_result"
    }
   ],
   "source": [
    "l4"
   ]
  },
  {
   "cell_type": "code",
   "execution_count": 160,
   "id": "1a932b62-bed2-460e-9ad5-2eccd3f552dd",
   "metadata": {},
   "outputs": [],
   "source": [
    "l4.sort(reverse=True)"
   ]
  },
  {
   "cell_type": "code",
   "execution_count": 161,
   "id": "721a3c53-fe67-49ab-a477-5cb88d17efbc",
   "metadata": {},
   "outputs": [
    {
     "data": {
      "text/plain": [
       "['gtgrg', 'gteg', 'fdgd']"
      ]
     },
     "execution_count": 161,
     "metadata": {},
     "output_type": "execute_result"
    }
   ],
   "source": [
    "l4"
   ]
  },
  {
   "cell_type": "code",
   "execution_count": 162,
   "id": "b3463c1b-9fba-4c82-be5a-57d763aeee9f",
   "metadata": {},
   "outputs": [
    {
     "data": {
      "text/plain": [
       "[1, 2, 3, 4, 5, 6]"
      ]
     },
     "execution_count": 162,
     "metadata": {},
     "output_type": "execute_result"
    }
   ],
   "source": [
    "l5=[1,2,3,4,5,6]\n",
    "l5"
   ]
  },
  {
   "cell_type": "code",
   "execution_count": 163,
   "id": "84476c47-d033-4be7-9c5a-272991284476",
   "metadata": {},
   "outputs": [],
   "source": [
    "l5.sort(reverse=True)"
   ]
  },
  {
   "cell_type": "code",
   "execution_count": 164,
   "id": "4a6ae029-69dc-4cbe-ab0a-2b0428c9f0fd",
   "metadata": {},
   "outputs": [
    {
     "data": {
      "text/plain": [
       "[6, 5, 4, 3, 2, 1]"
      ]
     },
     "execution_count": 164,
     "metadata": {},
     "output_type": "execute_result"
    }
   ],
   "source": [
    "l5"
   ]
  },
  {
   "cell_type": "code",
   "execution_count": 166,
   "id": "1742f287-f56e-4129-ae17-112a08c97f58",
   "metadata": {},
   "outputs": [
    {
     "data": {
      "text/plain": [
       "1"
      ]
     },
     "execution_count": 166,
     "metadata": {},
     "output_type": "execute_result"
    }
   ],
   "source": [
    "l5.count(4)"
   ]
  },
  {
   "cell_type": "code",
   "execution_count": 167,
   "id": "af1c97da-4e08-49f6-9617-b3ec6d8db157",
   "metadata": {},
   "outputs": [
    {
     "data": {
      "text/plain": [
       "['fdgd', 'gteg', 'gtgrg']"
      ]
     },
     "execution_count": 167,
     "metadata": {},
     "output_type": "execute_result"
    }
   ],
   "source": [
    "l4=[\"fdgd\",\"gteg\",\"gtgrg\"]\n",
    "l4"
   ]
  },
  {
   "cell_type": "code",
   "execution_count": 169,
   "id": "237af225-2545-4be4-ad44-0431be2b5164",
   "metadata": {},
   "outputs": [
    {
     "data": {
      "text/plain": [
       "0"
      ]
     },
     "execution_count": 169,
     "metadata": {},
     "output_type": "execute_result"
    }
   ],
   "source": [
    "l4.index(\"fdgd\")"
   ]
  },
  {
   "cell_type": "code",
   "execution_count": 170,
   "id": "a1bd189c-ca72-4185-9e80-fbf9b060467b",
   "metadata": {},
   "outputs": [
    {
     "data": {
      "text/plain": [
       "0"
      ]
     },
     "execution_count": 170,
     "metadata": {},
     "output_type": "execute_result"
    }
   ],
   "source": [
    "l4.index(\"fdgd\")"
   ]
  },
  {
   "cell_type": "code",
   "execution_count": 171,
   "id": "09e8d7ff-00af-466c-aec1-aa72c2489d14",
   "metadata": {},
   "outputs": [
    {
     "data": {
      "text/plain": [
       "0"
      ]
     },
     "execution_count": 171,
     "metadata": {},
     "output_type": "execute_result"
    }
   ],
   "source": [
    "l4.count(\"d\")"
   ]
  },
  {
   "cell_type": "code",
   "execution_count": 172,
   "id": "55764d42-53d9-4c63-b270-97f34ccfb830",
   "metadata": {},
   "outputs": [
    {
     "data": {
      "text/plain": [
       "1"
      ]
     },
     "execution_count": 172,
     "metadata": {},
     "output_type": "execute_result"
    }
   ],
   "source": [
    "l4.count(\"gteg\")"
   ]
  },
  {
   "cell_type": "code",
   "execution_count": 173,
   "id": "e451e37e-7875-4c4d-8351-56e57219fddc",
   "metadata": {},
   "outputs": [],
   "source": [
    "s=\"avinash\""
   ]
  },
  {
   "cell_type": "code",
   "execution_count": 174,
   "id": "b9a22772-7a4c-468d-83e7-6a65bf856257",
   "metadata": {},
   "outputs": [
    {
     "data": {
      "text/plain": [
       "'avinash'"
      ]
     },
     "execution_count": 174,
     "metadata": {},
     "output_type": "execute_result"
    }
   ],
   "source": [
    "s"
   ]
  },
  {
   "cell_type": "code",
   "execution_count": 175,
   "id": "819f281f-6d60-404f-b788-df8bf5b61710",
   "metadata": {},
   "outputs": [
    {
     "data": {
      "text/plain": [
       "'a'"
      ]
     },
     "execution_count": 175,
     "metadata": {},
     "output_type": "execute_result"
    }
   ],
   "source": [
    "s[0]"
   ]
  },
  {
   "cell_type": "code",
   "execution_count": 185,
   "id": "1022469c-6f8f-46c5-9d9f-2fa8937d625d",
   "metadata": {},
   "outputs": [],
   "source": [
    "d=s[0].replace('a','s')"
   ]
  },
  {
   "cell_type": "code",
   "execution_count": 186,
   "id": "a787eccd-ed27-4d47-8e7c-621fa27d22a6",
   "metadata": {},
   "outputs": [
    {
     "name": "stdout",
     "output_type": "stream",
     "text": [
      "s\n"
     ]
    }
   ],
   "source": [
    "print(d)"
   ]
  },
  {
   "cell_type": "code",
   "execution_count": 187,
   "id": "97304160-ac53-48c2-986c-6c6742f019b8",
   "metadata": {},
   "outputs": [],
   "source": [
    "l5=[3,4,5,6]"
   ]
  },
  {
   "cell_type": "code",
   "execution_count": 188,
   "id": "2ccd2824-5e40-4329-b3af-130a899bb1d4",
   "metadata": {},
   "outputs": [
    {
     "data": {
      "text/plain": [
       "3"
      ]
     },
     "execution_count": 188,
     "metadata": {},
     "output_type": "execute_result"
    }
   ],
   "source": [
    "l5[0]"
   ]
  },
  {
   "cell_type": "code",
   "execution_count": 189,
   "id": "64840f81-5105-450b-98a0-136658a573c9",
   "metadata": {},
   "outputs": [],
   "source": [
    "l5[0]=30\n"
   ]
  },
  {
   "cell_type": "code",
   "execution_count": 190,
   "id": "19eff61d-33a9-4cbe-9973-8186fde21df2",
   "metadata": {},
   "outputs": [
    {
     "data": {
      "text/plain": [
       "[30, 4, 5, 6]"
      ]
     },
     "execution_count": 190,
     "metadata": {},
     "output_type": "execute_result"
    }
   ],
   "source": [
    "l5"
   ]
  },
  {
   "cell_type": "code",
   "execution_count": 1,
   "id": "beff265a-96a4-40e7-a69f-87a77e9832b0",
   "metadata": {},
   "outputs": [],
   "source": [
    "l=[9,8,7,6]"
   ]
  },
  {
   "cell_type": "code",
   "execution_count": 2,
   "id": "203a8eaa-34b6-42ec-bbe8-498dd89485be",
   "metadata": {},
   "outputs": [
    {
     "data": {
      "text/plain": [
       "[9, 8, 7, 6]"
      ]
     },
     "execution_count": 2,
     "metadata": {},
     "output_type": "execute_result"
    }
   ],
   "source": [
    "l"
   ]
  },
  {
   "cell_type": "code",
   "execution_count": 3,
   "id": "06d95987-fd0d-4b2a-9bc3-ff986434fad7",
   "metadata": {},
   "outputs": [],
   "source": [
    "l[0]=10"
   ]
  },
  {
   "cell_type": "code",
   "execution_count": 4,
   "id": "07581d68-bc35-42e2-99cd-9c35a25570cb",
   "metadata": {},
   "outputs": [
    {
     "data": {
      "text/plain": [
       "[10, 8, 7, 6]"
      ]
     },
     "execution_count": 4,
     "metadata": {},
     "output_type": "execute_result"
    }
   ],
   "source": [
    "l"
   ]
  },
  {
   "cell_type": "code",
   "execution_count": 5,
   "id": "28f1f903-b55e-4c23-b533-7967e1d4aad9",
   "metadata": {},
   "outputs": [],
   "source": [
    "l.sort()"
   ]
  },
  {
   "cell_type": "code",
   "execution_count": 6,
   "id": "ce4b1160-2a3f-48f3-a2c9-f2d3bddc61f1",
   "metadata": {},
   "outputs": [
    {
     "data": {
      "text/plain": [
       "[6, 7, 8, 10]"
      ]
     },
     "execution_count": 6,
     "metadata": {},
     "output_type": "execute_result"
    }
   ],
   "source": [
    "l"
   ]
  },
  {
   "cell_type": "code",
   "execution_count": 7,
   "id": "598d364c-bad3-4200-ac5f-fadf038418be",
   "metadata": {},
   "outputs": [
    {
     "data": {
      "text/plain": [
       "[6, 7, 8, 10]"
      ]
     },
     "execution_count": 7,
     "metadata": {},
     "output_type": "execute_result"
    }
   ],
   "source": [
    "l"
   ]
  },
  {
   "cell_type": "code",
   "execution_count": 8,
   "id": "a44ffb12-b614-47e7-8cbe-1c7b9f7700b5",
   "metadata": {},
   "outputs": [],
   "source": [
    "l.sort(reverse=True)"
   ]
  },
  {
   "cell_type": "code",
   "execution_count": 9,
   "id": "cdbe35fd-7495-4c4a-aaaa-bf6ea48680f3",
   "metadata": {},
   "outputs": [
    {
     "data": {
      "text/plain": [
       "[10, 8, 7, 6]"
      ]
     },
     "execution_count": 9,
     "metadata": {},
     "output_type": "execute_result"
    }
   ],
   "source": [
    "l"
   ]
  },
  {
   "cell_type": "code",
   "execution_count": 10,
   "id": "5019cd1a-e4d2-44b4-817a-00e2724f39c3",
   "metadata": {},
   "outputs": [],
   "source": [
    "s=\"avinash\""
   ]
  },
  {
   "cell_type": "code",
   "execution_count": 11,
   "id": "61922a8e-f655-4dd2-b3e0-f4663181a74d",
   "metadata": {},
   "outputs": [
    {
     "data": {
      "text/plain": [
       "'avinash'"
      ]
     },
     "execution_count": 11,
     "metadata": {},
     "output_type": "execute_result"
    }
   ],
   "source": [
    "s"
   ]
  },
  {
   "cell_type": "code",
   "execution_count": 12,
   "id": "043bb846-8ef1-4c1a-9a33-928821ecef7c",
   "metadata": {},
   "outputs": [
    {
     "data": {
      "text/plain": [
       "'asinash'"
      ]
     },
     "execution_count": 12,
     "metadata": {},
     "output_type": "execute_result"
    }
   ],
   "source": [
    "s.replace(\"v\",\"s\")"
   ]
  },
  {
   "cell_type": "code",
   "execution_count": 13,
   "id": "71f3d341-e05a-4104-bd4e-6ca695a54d3a",
   "metadata": {},
   "outputs": [
    {
     "data": {
      "text/plain": [
       "'dvindsh'"
      ]
     },
     "execution_count": 13,
     "metadata": {},
     "output_type": "execute_result"
    }
   ],
   "source": [
    "s.replace(\"a\",\"d\")"
   ]
  },
  {
   "cell_type": "code",
   "execution_count": 14,
   "id": "7cb8a370-1d6c-47d2-8ae8-1a03c1e89b6c",
   "metadata": {},
   "outputs": [
    {
     "data": {
      "text/plain": [
       "'avinash'"
      ]
     },
     "execution_count": 14,
     "metadata": {},
     "output_type": "execute_result"
    }
   ],
   "source": [
    "s"
   ]
  },
  {
   "cell_type": "code",
   "execution_count": 15,
   "id": "8e47e2ab-2c48-45c8-96d3-ece9da82a9d9",
   "metadata": {},
   "outputs": [],
   "source": [
    "# when we acces the original its not changed so its string is immutable"
   ]
  },
  {
   "cell_type": "code",
   "execution_count": 16,
   "id": "afc70662-7744-416c-aff0-7c1cc37c57e5",
   "metadata": {},
   "outputs": [],
   "source": [
    "d=\"avinash\""
   ]
  },
  {
   "cell_type": "code",
   "execution_count": 17,
   "id": "f7e5209f-acbd-43ae-b9c1-58dcd4d9d8ee",
   "metadata": {},
   "outputs": [
    {
     "data": {
      "text/plain": [
       "'avinash'"
      ]
     },
     "execution_count": 17,
     "metadata": {},
     "output_type": "execute_result"
    }
   ],
   "source": [
    "d"
   ]
  },
  {
   "cell_type": "code",
   "execution_count": 18,
   "id": "e31f7a39-7e04-4b66-b664-59d84b7ceaaa",
   "metadata": {},
   "outputs": [
    {
     "data": {
      "text/plain": [
       "'h'"
      ]
     },
     "execution_count": 18,
     "metadata": {},
     "output_type": "execute_result"
    }
   ],
   "source": [
    "d[:-2:-1]"
   ]
  },
  {
   "cell_type": "code",
   "execution_count": 20,
   "id": "658ad64c-3798-4118-9ea5-7b276878d52c",
   "metadata": {},
   "outputs": [
    {
     "data": {
      "text/plain": [
       "'saniv'"
      ]
     },
     "execution_count": 20,
     "metadata": {},
     "output_type": "execute_result"
    }
   ],
   "source": [
    "d[-2:-7:-1]"
   ]
  },
  {
   "cell_type": "code",
   "execution_count": 21,
   "id": "603eba59-ec4f-465a-b02f-17e8c1efc0e9",
   "metadata": {},
   "outputs": [
    {
     "data": {
      "text/plain": [
       "'sh'"
      ]
     },
     "execution_count": 21,
     "metadata": {},
     "output_type": "execute_result"
    }
   ],
   "source": [
    "d[-2::1]"
   ]
  },
  {
   "cell_type": "code",
   "execution_count": 22,
   "id": "edcd6bd0-734d-476f-b22f-bb8108961ab0",
   "metadata": {},
   "outputs": [],
   "source": [
    "t=(1,2,3,True,[1,2,3],45+78j)"
   ]
  },
  {
   "cell_type": "code",
   "execution_count": 23,
   "id": "6b3a911a-dca5-438e-a599-6bc575fa5836",
   "metadata": {},
   "outputs": [
    {
     "data": {
      "text/plain": [
       "(1, 2, 3, True, [1, 2, 3], (45+78j))"
      ]
     },
     "execution_count": 23,
     "metadata": {},
     "output_type": "execute_result"
    }
   ],
   "source": [
    "t"
   ]
  },
  {
   "cell_type": "code",
   "execution_count": 24,
   "id": "26a44aec-8d89-422e-83bc-98240cc95655",
   "metadata": {},
   "outputs": [],
   "source": [
    "# tupple starts from ()"
   ]
  },
  {
   "cell_type": "code",
   "execution_count": 25,
   "id": "c17f1326-437d-4f59-9a8e-130c26d9240f",
   "metadata": {},
   "outputs": [
    {
     "data": {
      "text/plain": [
       "tuple"
      ]
     },
     "execution_count": 25,
     "metadata": {},
     "output_type": "execute_result"
    }
   ],
   "source": [
    "type(t)"
   ]
  },
  {
   "cell_type": "code",
   "execution_count": 26,
   "id": "c6fac398-171f-486d-81eb-c6b862f072b4",
   "metadata": {},
   "outputs": [
    {
     "data": {
      "text/plain": [
       "6"
      ]
     },
     "execution_count": 26,
     "metadata": {},
     "output_type": "execute_result"
    }
   ],
   "source": [
    "len(t)"
   ]
  },
  {
   "cell_type": "code",
   "execution_count": 27,
   "id": "5131362c-51b3-46ab-9048-ab0f4444cd52",
   "metadata": {},
   "outputs": [
    {
     "ename": "TypeError",
     "evalue": "'tuple' object is not callable",
     "output_type": "error",
     "traceback": [
      "\u001b[0;31m---------------------------------------------------------------------------\u001b[0m",
      "\u001b[0;31mTypeError\u001b[0m                                 Traceback (most recent call last)",
      "Cell \u001b[0;32mIn[27], line 1\u001b[0m\n\u001b[0;32m----> 1\u001b[0m \u001b[43mt\u001b[49m\u001b[43m(\u001b[49m\u001b[38;5;241;43m0\u001b[39;49m\u001b[43m)\u001b[49m\n",
      "\u001b[0;31mTypeError\u001b[0m: 'tuple' object is not callable"
     ]
    }
   ],
   "source": [
    "t(0)"
   ]
  },
  {
   "cell_type": "code",
   "execution_count": 28,
   "id": "bc169cf5-ccee-4eaa-b2c5-63a8c443c890",
   "metadata": {},
   "outputs": [
    {
     "data": {
      "text/plain": [
       "1"
      ]
     },
     "execution_count": 28,
     "metadata": {},
     "output_type": "execute_result"
    }
   ],
   "source": [
    "t[0]"
   ]
  },
  {
   "cell_type": "code",
   "execution_count": 29,
   "id": "8a3c542e-6c50-4bd9-9e0e-986e6593be4d",
   "metadata": {},
   "outputs": [
    {
     "data": {
      "text/plain": [
       "2"
      ]
     },
     "execution_count": 29,
     "metadata": {},
     "output_type": "execute_result"
    }
   ],
   "source": [
    "t[1]"
   ]
  },
  {
   "cell_type": "code",
   "execution_count": 30,
   "id": "ac11966e-21ff-4542-bf30-4bddb1858f7c",
   "metadata": {},
   "outputs": [
    {
     "data": {
      "text/plain": [
       "(1, 2, 3, True, [1, 2, 3], (45+78j))"
      ]
     },
     "execution_count": 30,
     "metadata": {},
     "output_type": "execute_result"
    }
   ],
   "source": [
    "t[0:7]"
   ]
  },
  {
   "cell_type": "code",
   "execution_count": 31,
   "id": "5f2b2bb6-c2bd-42cf-919b-b871e08309db",
   "metadata": {},
   "outputs": [
    {
     "data": {
      "text/plain": [
       "(45+78j)"
      ]
     },
     "execution_count": 31,
     "metadata": {},
     "output_type": "execute_result"
    }
   ],
   "source": [
    "t[-1]"
   ]
  },
  {
   "cell_type": "code",
   "execution_count": 32,
   "id": "36ae5efc-f25a-4043-9b98-c5a5a013c011",
   "metadata": {},
   "outputs": [
    {
     "data": {
      "text/plain": [
       "((45+78j), [1, 2, 3], True, 3, 2, 1)"
      ]
     },
     "execution_count": 32,
     "metadata": {},
     "output_type": "execute_result"
    }
   ],
   "source": [
    "t[::-1]"
   ]
  },
  {
   "cell_type": "code",
   "execution_count": 33,
   "id": "55d3ce8b-a6ed-4691-99d2-e69c34e5cea3",
   "metadata": {},
   "outputs": [
    {
     "ename": "ValueError",
     "evalue": "tuple.index(x): x not in tuple",
     "output_type": "error",
     "traceback": [
      "\u001b[0;31m---------------------------------------------------------------------------\u001b[0m",
      "\u001b[0;31mValueError\u001b[0m                                Traceback (most recent call last)",
      "Cell \u001b[0;32mIn[33], line 1\u001b[0m\n\u001b[0;32m----> 1\u001b[0m \u001b[43mt\u001b[49m\u001b[38;5;241;43m.\u001b[39;49m\u001b[43mindex\u001b[49m\u001b[43m(\u001b[49m\u001b[38;5;241;43m0\u001b[39;49m\u001b[43m)\u001b[49m\n",
      "\u001b[0;31mValueError\u001b[0m: tuple.index(x): x not in tuple"
     ]
    }
   ],
   "source": [
    "t.index(0)"
   ]
  },
  {
   "cell_type": "code",
   "execution_count": 34,
   "id": "48220ed6-2b28-48f8-8e8b-0e75bfaff4e0",
   "metadata": {},
   "outputs": [
    {
     "data": {
      "text/plain": [
       "0"
      ]
     },
     "execution_count": 34,
     "metadata": {},
     "output_type": "execute_result"
    }
   ],
   "source": [
    "t.index(True)"
   ]
  },
  {
   "cell_type": "code",
   "execution_count": 35,
   "id": "46235308-dcff-48b6-936e-08198ba2765a",
   "metadata": {},
   "outputs": [],
   "source": [
    "l4=[\"sudh\",\"pwskills\",\"kumar\",\"datascience\"]"
   ]
  },
  {
   "cell_type": "code",
   "execution_count": 36,
   "id": "ed378976-7609-4906-948d-424de25cc237",
   "metadata": {},
   "outputs": [
    {
     "data": {
      "text/plain": [
       "['sudh', 'pwskills', 'kumar', 'datascience']"
      ]
     },
     "execution_count": 36,
     "metadata": {},
     "output_type": "execute_result"
    }
   ],
   "source": [
    "l4"
   ]
  },
  {
   "cell_type": "code",
   "execution_count": 37,
   "id": "dd0362af-7fa8-4e8f-a87f-49caa51801ff",
   "metadata": {},
   "outputs": [],
   "source": [
    "l4[0]=1234"
   ]
  },
  {
   "cell_type": "code",
   "execution_count": 38,
   "id": "6a801912-f588-47c3-8b75-5f70a95a1ec9",
   "metadata": {},
   "outputs": [
    {
     "data": {
      "text/plain": [
       "[1234, 'pwskills', 'kumar', 'datascience']"
      ]
     },
     "execution_count": 38,
     "metadata": {},
     "output_type": "execute_result"
    }
   ],
   "source": [
    "l4"
   ]
  },
  {
   "cell_type": "code",
   "execution_count": 39,
   "id": "cffdcb24-aa9c-4901-9954-2001dee2c5d6",
   "metadata": {},
   "outputs": [
    {
     "data": {
      "text/plain": [
       "(1, 2, 3, True, [1, 2, 3], (45+78j))"
      ]
     },
     "execution_count": 39,
     "metadata": {},
     "output_type": "execute_result"
    }
   ],
   "source": [
    "t"
   ]
  },
  {
   "cell_type": "code",
   "execution_count": 40,
   "id": "b58fd6e4-1f4e-49db-9283-f6f25dc89586",
   "metadata": {},
   "outputs": [
    {
     "ename": "TypeError",
     "evalue": "'tuple' object does not support item assignment",
     "output_type": "error",
     "traceback": [
      "\u001b[0;31m---------------------------------------------------------------------------\u001b[0m",
      "\u001b[0;31mTypeError\u001b[0m                                 Traceback (most recent call last)",
      "Cell \u001b[0;32mIn[40], line 1\u001b[0m\n\u001b[0;32m----> 1\u001b[0m \u001b[43mt\u001b[49m\u001b[43m[\u001b[49m\u001b[38;5;241;43m0\u001b[39;49m\u001b[43m]\u001b[49m\u001b[38;5;241m=\u001b[39m\u001b[38;5;241m12\u001b[39m\n",
      "\u001b[0;31mTypeError\u001b[0m: 'tuple' object does not support item assignment"
     ]
    }
   ],
   "source": [
    "t[0]=12"
   ]
  },
  {
   "cell_type": "code",
   "execution_count": 41,
   "id": "27d2f9df-40d3-4b07-9e5c-c29cfe972bce",
   "metadata": {},
   "outputs": [
    {
     "ename": "TypeError",
     "evalue": "'tuple' object does not support item assignment",
     "output_type": "error",
     "traceback": [
      "\u001b[0;31m---------------------------------------------------------------------------\u001b[0m",
      "\u001b[0;31mTypeError\u001b[0m                                 Traceback (most recent call last)",
      "Cell \u001b[0;32mIn[41], line 1\u001b[0m\n\u001b[0;32m----> 1\u001b[0m \u001b[43mt\u001b[49m\u001b[43m[\u001b[49m\u001b[38;5;241;43m0\u001b[39;49m\u001b[43m]\u001b[49m\u001b[38;5;241m=\u001b[39m\u001b[38;5;124m\"\u001b[39m\u001b[38;5;124mavinash\u001b[39m\u001b[38;5;124m\"\u001b[39m\n",
      "\u001b[0;31mTypeError\u001b[0m: 'tuple' object does not support item assignment"
     ]
    }
   ],
   "source": [
    "t[0]=\"avinash\""
   ]
  },
  {
   "cell_type": "code",
   "execution_count": 42,
   "id": "b0683974-0e80-43dc-a6ba-a38601806795",
   "metadata": {},
   "outputs": [
    {
     "data": {
      "text/plain": [
       "3"
      ]
     },
     "execution_count": 42,
     "metadata": {},
     "output_type": "execute_result"
    }
   ],
   "source": [
    "1+2"
   ]
  },
  {
   "cell_type": "code",
   "execution_count": 43,
   "id": "4cb49b24-65db-48fc-a8dd-f2ab78db56db",
   "metadata": {},
   "outputs": [
    {
     "data": {
      "text/plain": [
       "((45+78j), [1, 2, 3], True, 3, 2, 1)"
      ]
     },
     "execution_count": 43,
     "metadata": {},
     "output_type": "execute_result"
    }
   ],
   "source": [
    "t[::-1]"
   ]
  },
  {
   "cell_type": "code",
   "execution_count": 44,
   "id": "5cf23a55-eb70-4224-81da-9ad2b6d11bf3",
   "metadata": {},
   "outputs": [
    {
     "data": {
      "text/plain": [
       "(1, 2, 3, True, [1, 2, 3], (45+78j))"
      ]
     },
     "execution_count": 44,
     "metadata": {},
     "output_type": "execute_result"
    }
   ],
   "source": [
    "t"
   ]
  },
  {
   "cell_type": "code",
   "execution_count": 45,
   "id": "134b9a34-ab4e-47b6-a313-0d794ffe7f85",
   "metadata": {},
   "outputs": [
    {
     "ename": "TypeError",
     "evalue": "tuple.count() takes exactly one argument (0 given)",
     "output_type": "error",
     "traceback": [
      "\u001b[0;31m---------------------------------------------------------------------------\u001b[0m",
      "\u001b[0;31mTypeError\u001b[0m                                 Traceback (most recent call last)",
      "Cell \u001b[0;32mIn[45], line 1\u001b[0m\n\u001b[0;32m----> 1\u001b[0m \u001b[43mt\u001b[49m\u001b[38;5;241;43m.\u001b[39;49m\u001b[43mcount\u001b[49m\u001b[43m(\u001b[49m\u001b[43m)\u001b[49m\n",
      "\u001b[0;31mTypeError\u001b[0m: tuple.count() takes exactly one argument (0 given)"
     ]
    }
   ],
   "source": [
    " t.count()"
   ]
  },
  {
   "cell_type": "code",
   "execution_count": 46,
   "id": "b8c343b8-ff90-4e63-b53a-77dbcf88439f",
   "metadata": {},
   "outputs": [
    {
     "data": {
      "text/plain": [
       "2"
      ]
     },
     "execution_count": 46,
     "metadata": {},
     "output_type": "execute_result"
    }
   ],
   "source": [
    "t.count(1)"
   ]
  },
  {
   "cell_type": "code",
   "execution_count": 47,
   "id": "62a8bc03-c234-4c91-a0d7-a441a49dc9f1",
   "metadata": {},
   "outputs": [
    {
     "data": {
      "text/plain": [
       "0"
      ]
     },
     "execution_count": 47,
     "metadata": {},
     "output_type": "execute_result"
    }
   ],
   "source": [
    "t.index(True)"
   ]
  },
  {
   "cell_type": "code",
   "execution_count": 48,
   "id": "b0b66f95-9ba6-4d4b-a6a6-27ffd3a6481e",
   "metadata": {},
   "outputs": [
    {
     "data": {
      "text/plain": [
       "0"
      ]
     },
     "execution_count": 48,
     "metadata": {},
     "output_type": "execute_result"
    }
   ],
   "source": [
    "t.index(1)"
   ]
  },
  {
   "cell_type": "code",
   "execution_count": 49,
   "id": "907740cc-d24f-4e22-9fb5-2b1ee7ed7b33",
   "metadata": {},
   "outputs": [
    {
     "data": {
      "text/plain": [
       "0"
      ]
     },
     "execution_count": 49,
     "metadata": {},
     "output_type": "execute_result"
    }
   ],
   "source": [
    "t.index(True)"
   ]
  },
  {
   "cell_type": "code",
   "execution_count": 50,
   "id": "17c5a541-16bf-4acf-8ffb-6e60549a4c38",
   "metadata": {},
   "outputs": [
    {
     "data": {
      "text/plain": [
       "1"
      ]
     },
     "execution_count": 50,
     "metadata": {},
     "output_type": "execute_result"
    }
   ],
   "source": [
    "t.index(2)"
   ]
  },
  {
   "cell_type": "code",
   "execution_count": 51,
   "id": "4184f331-5023-432a-9732-7a24d48a0dfa",
   "metadata": {},
   "outputs": [
    {
     "data": {
      "text/plain": [
       "4"
      ]
     },
     "execution_count": 51,
     "metadata": {},
     "output_type": "execute_result"
    }
   ],
   "source": [
    "t.index([1,2,3])"
   ]
  },
  {
   "cell_type": "code",
   "execution_count": 52,
   "id": "a8359468-b4b2-47d2-8e13-874d47981930",
   "metadata": {},
   "outputs": [
    {
     "data": {
      "text/plain": [
       "True"
      ]
     },
     "execution_count": 52,
     "metadata": {},
     "output_type": "execute_result"
    }
   ],
   "source": [
    "t[3]"
   ]
  },
  {
   "cell_type": "code",
   "execution_count": 53,
   "id": "e5318c31-219c-406c-9644-80205f8a3e0c",
   "metadata": {},
   "outputs": [
    {
     "data": {
      "text/plain": [
       "0"
      ]
     },
     "execution_count": 53,
     "metadata": {},
     "output_type": "execute_result"
    }
   ],
   "source": [
    "t.index(True)"
   ]
  },
  {
   "cell_type": "code",
   "execution_count": 54,
   "id": "1d9bc153-c116-4007-a653-090ee06abd98",
   "metadata": {},
   "outputs": [],
   "source": [
    "s1={\"av\"}"
   ]
  },
  {
   "cell_type": "code",
   "execution_count": 55,
   "id": "186f345b-0627-4d0c-8863-08f7d56114be",
   "metadata": {},
   "outputs": [
    {
     "data": {
      "text/plain": [
       "set"
      ]
     },
     "execution_count": 55,
     "metadata": {},
     "output_type": "execute_result"
    }
   ],
   "source": [
    "type(s1)"
   ]
  },
  {
   "cell_type": "code",
   "execution_count": 56,
   "id": "a7f97dec-ece4-45cb-b8b5-f3133feee475",
   "metadata": {},
   "outputs": [],
   "source": [
    "list=[1,2,3,(1,2,3)]"
   ]
  },
  {
   "cell_type": "code",
   "execution_count": 57,
   "id": "13f2ec22-2469-4e35-899e-c4159bcb0b68",
   "metadata": {},
   "outputs": [
    {
     "data": {
      "text/plain": [
       "[1, 2, 3, (1, 2, 3)]"
      ]
     },
     "execution_count": 57,
     "metadata": {},
     "output_type": "execute_result"
    }
   ],
   "source": [
    "list"
   ]
  },
  {
   "cell_type": "code",
   "execution_count": 58,
   "id": "08752a53-6e80-4133-8ba0-619792a94237",
   "metadata": {},
   "outputs": [
    {
     "data": {
      "text/plain": [
       "tuple"
      ]
     },
     "execution_count": 58,
     "metadata": {},
     "output_type": "execute_result"
    }
   ],
   "source": [
    "type(list[3])"
   ]
  },
  {
   "cell_type": "code",
   "execution_count": 63,
   "id": "daac599d-1d35-464f-b52e-3bb47a5d7147",
   "metadata": {},
   "outputs": [
    {
     "ename": "TypeError",
     "evalue": "unhashable type: 'list'",
     "output_type": "error",
     "traceback": [
      "\u001b[0;31m---------------------------------------------------------------------------\u001b[0m",
      "\u001b[0;31mTypeError\u001b[0m                                 Traceback (most recent call last)",
      "Cell \u001b[0;32mIn[63], line 1\u001b[0m\n\u001b[0;32m----> 1\u001b[0m \u001b[38;5;28mset\u001b[39m\u001b[38;5;241m=\u001b[39m{\u001b[38;5;124m\"\u001b[39m\u001b[38;5;124mavinash\u001b[39m\u001b[38;5;124m\"\u001b[39m,\u001b[38;5;241m1\u001b[39m,\u001b[38;5;241m2\u001b[39m,\u001b[38;5;241m3\u001b[39m,\u001b[38;5;28;01mTrue\u001b[39;00m,\u001b[38;5;28;01mFalse\u001b[39;00m,\u001b[38;5;241m12\u001b[39m\u001b[38;5;241m+\u001b[39m\u001b[38;5;241m5\u001b[39mj,[\u001b[38;5;241m4\u001b[39m,\u001b[38;5;241m5\u001b[39m,\u001b[38;5;241m6\u001b[39m,\u001b[38;5;241m7\u001b[39m]}\n",
      "\u001b[0;31mTypeError\u001b[0m: unhashable type: 'list'"
     ]
    }
   ],
   "source": [
    "set={\"avinash\",1,2,3,True,False,12+5j,[4,5,6,7]}"
   ]
  },
  {
   "cell_type": "code",
   "execution_count": 62,
   "id": "b1bcb3c9-26c7-4b48-b59c-3d8eaa49620b",
   "metadata": {},
   "outputs": [
    {
     "data": {
      "text/plain": [
       "{(12+5j), 1, 2, 3, False, 'avinash'}"
      ]
     },
     "execution_count": 62,
     "metadata": {},
     "output_type": "execute_result"
    }
   ],
   "source": [
    "set"
   ]
  },
  {
   "cell_type": "code",
   "execution_count": 64,
   "id": "3b40ff2e-1e88-442b-8493-f9935b5a6994",
   "metadata": {},
   "outputs": [
    {
     "ename": "TypeError",
     "evalue": "unhashable type: 'list'",
     "output_type": "error",
     "traceback": [
      "\u001b[0;31m---------------------------------------------------------------------------\u001b[0m",
      "\u001b[0;31mTypeError\u001b[0m                                 Traceback (most recent call last)",
      "Cell \u001b[0;32mIn[64], line 1\u001b[0m\n\u001b[0;32m----> 1\u001b[0m s1\u001b[38;5;241m=\u001b[39m{[\u001b[38;5;241m1\u001b[39m,\u001b[38;5;241m2\u001b[39m,\u001b[38;5;241m3\u001b[39m]}\n",
      "\u001b[0;31mTypeError\u001b[0m: unhashable type: 'list'"
     ]
    }
   ],
   "source": [
    "s1={[1,2,3]}"
   ]
  },
  {
   "cell_type": "code",
   "execution_count": 65,
   "id": "f82f5a6f-97c2-4a17-85ea-f7011a4e5a68",
   "metadata": {},
   "outputs": [],
   "source": [
    "s={(1,2,3)}"
   ]
  },
  {
   "cell_type": "code",
   "execution_count": 66,
   "id": "87cbf16e-6216-427b-8d6a-d9ef40597481",
   "metadata": {},
   "outputs": [
    {
     "data": {
      "text/plain": [
       "{(1, 2, 3)}"
      ]
     },
     "execution_count": 66,
     "metadata": {},
     "output_type": "execute_result"
    }
   ],
   "source": [
    "s"
   ]
  },
  {
   "cell_type": "code",
   "execution_count": 67,
   "id": "aefa3eb5-20c1-46bc-ba44-ae02e8ae50ce",
   "metadata": {},
   "outputs": [],
   "source": [
    "s1={}"
   ]
  },
  {
   "cell_type": "code",
   "execution_count": 68,
   "id": "141731f6-7eea-4b68-9a7d-454ac81aa322",
   "metadata": {},
   "outputs": [
    {
     "data": {
      "text/plain": [
       "dict"
      ]
     },
     "execution_count": 68,
     "metadata": {},
     "output_type": "execute_result"
    }
   ],
   "source": [
    "type(s1)"
   ]
  },
  {
   "cell_type": "code",
   "execution_count": 69,
   "id": "b4938217-d412-44a7-9690-9f4a661fbd45",
   "metadata": {},
   "outputs": [],
   "source": [
    "s2={2,3,4,55,6}"
   ]
  },
  {
   "cell_type": "code",
   "execution_count": 70,
   "id": "985c25e1-3a20-4196-ad8d-60648ca729c7",
   "metadata": {},
   "outputs": [
    {
     "data": {
      "text/plain": [
       "set"
      ]
     },
     "execution_count": 70,
     "metadata": {},
     "output_type": "execute_result"
    }
   ],
   "source": [
    "type(s2)"
   ]
  },
  {
   "cell_type": "code",
   "execution_count": 72,
   "id": "9013ef09-1fe8-46ff-aa00-af616f9fcd71",
   "metadata": {},
   "outputs": [],
   "source": [
    "s3={324,456,234,\"avinash\",(2,3,4)}"
   ]
  },
  {
   "cell_type": "code",
   "execution_count": 75,
   "id": "3c524b0e-c9b7-4667-98a2-086d5dd4fe74",
   "metadata": {},
   "outputs": [
    {
     "data": {
      "text/plain": [
       "{(2, 3, 4), 234, 3, 324, 456, 'avinash'}"
      ]
     },
     "execution_count": 75,
     "metadata": {},
     "output_type": "execute_result"
    }
   ],
   "source": [
    "s3"
   ]
  },
  {
   "cell_type": "code",
   "execution_count": 82,
   "id": "14c5e0ad-ce8f-4832-9021-dd24685ebf7c",
   "metadata": {},
   "outputs": [],
   "source": [
    "s4={2,3,4,5,6,7,8,9,10,2,3,4,1,2,3,4,5,\"avinash\",\"avinash\",\"Avinash\",\"shaina\"}"
   ]
  },
  {
   "cell_type": "code",
   "execution_count": 83,
   "id": "2bf11484-735f-4e9d-b6a5-2731630328c9",
   "metadata": {},
   "outputs": [
    {
     "data": {
      "text/plain": [
       "{1, 10, 2, 3, 4, 5, 6, 7, 8, 9, 'Avinash', 'avinash', 'shaina'}"
      ]
     },
     "execution_count": 83,
     "metadata": {},
     "output_type": "execute_result"
    }
   ],
   "source": [
    "s4"
   ]
  },
  {
   "cell_type": "code",
   "execution_count": 85,
   "id": "7420d3d9-402d-442e-9956-b09942d847cb",
   "metadata": {},
   "outputs": [],
   "source": [
    "a=\"avinash\""
   ]
  },
  {
   "cell_type": "code",
   "execution_count": 87,
   "id": "4ad7f15d-4205-4d31-b959-366549cdac36",
   "metadata": {},
   "outputs": [
    {
     "data": {
      "text/plain": [
       "'avinash'"
      ]
     },
     "execution_count": 87,
     "metadata": {},
     "output_type": "execute_result"
    }
   ],
   "source": [
    "a"
   ]
  },
  {
   "cell_type": "code",
   "execution_count": 88,
   "id": "b54a07ff-ea4e-4e6e-b59b-bbbf4fef3f43",
   "metadata": {},
   "outputs": [],
   "source": [
    "d7=(1,2,3,4,5,6,7,12,3,4,5,6,7,12,3,4,5,6,7,\"avi\")"
   ]
  },
  {
   "cell_type": "code",
   "execution_count": 92,
   "id": "70ce3ac5-75ff-4e06-b0e8-0917e6fa6574",
   "metadata": {},
   "outputs": [
    {
     "ename": "TypeError",
     "evalue": "'set' object is not callable",
     "output_type": "error",
     "traceback": [
      "\u001b[0;31m---------------------------------------------------------------------------\u001b[0m",
      "\u001b[0;31mTypeError\u001b[0m                                 Traceback (most recent call last)",
      "Cell \u001b[0;32mIn[92], line 1\u001b[0m\n\u001b[0;32m----> 1\u001b[0m \u001b[38;5;28;43mset\u001b[39;49m\u001b[43m(\u001b[49m\u001b[43md7\u001b[49m\u001b[43m)\u001b[49m\n",
      "\u001b[0;31mTypeError\u001b[0m: 'set' object is not callable"
     ]
    }
   ],
   "source": [
    "set(d7)"
   ]
  },
  {
   "cell_type": "code",
   "execution_count": 90,
   "id": "09dcacbd-9648-459f-8cea-b08b67b3421c",
   "metadata": {},
   "outputs": [
    {
     "ename": "TypeError",
     "evalue": "'set' object is not callable",
     "output_type": "error",
     "traceback": [
      "\u001b[0;31m---------------------------------------------------------------------------\u001b[0m",
      "\u001b[0;31mTypeError\u001b[0m                                 Traceback (most recent call last)",
      "Cell \u001b[0;32mIn[90], line 1\u001b[0m\n\u001b[0;32m----> 1\u001b[0m \u001b[38;5;28;43mset\u001b[39;49m\u001b[43m(\u001b[49m\u001b[43md7\u001b[49m\u001b[43m)\u001b[49m\n",
      "\u001b[0;31mTypeError\u001b[0m: 'set' object is not callable"
     ]
    }
   ],
   "source": []
  },
  {
   "cell_type": "code",
   "execution_count": 97,
   "id": "7c858df3-5e48-439f-84a6-34d4be92325f",
   "metadata": {},
   "outputs": [],
   "source": [
    "l6=[2,3,4,5,6,7,8,2,3,4,5,6,7,8,1,2,3,1,2,3,\"avinash\",\"Avinash\"]"
   ]
  },
  {
   "cell_type": "code",
   "execution_count": 99,
   "id": "2503ee15-eee2-4108-afa8-16cdc39f8319",
   "metadata": {},
   "outputs": [
    {
     "ename": "TypeError",
     "evalue": "'set' object is not callable",
     "output_type": "error",
     "traceback": [
      "\u001b[0;31m---------------------------------------------------------------------------\u001b[0m",
      "\u001b[0;31mTypeError\u001b[0m                                 Traceback (most recent call last)",
      "Cell \u001b[0;32mIn[99], line 1\u001b[0m\n\u001b[0;32m----> 1\u001b[0m l7\u001b[38;5;241m=\u001b[39m\u001b[38;5;28;43mset\u001b[39;49m\u001b[43m(\u001b[49m\u001b[43ml6\u001b[49m\u001b[43m)\u001b[49m\n\u001b[1;32m      2\u001b[0m l7\n",
      "\u001b[0;31mTypeError\u001b[0m: 'set' object is not callable"
     ]
    }
   ],
   "source": [
    "l7=set(l6)\n",
    "l7"
   ]
  },
  {
   "cell_type": "code",
   "execution_count": 100,
   "id": "797dd58d-d49c-4c7c-819c-531971061a10",
   "metadata": {},
   "outputs": [],
   "source": [
    "j6=[1,2,3,4,1,2,3,1,2,3]"
   ]
  },
  {
   "cell_type": "code",
   "execution_count": 101,
   "id": "fb146b3f-edc0-42ec-952f-20b250fae1c6",
   "metadata": {},
   "outputs": [
    {
     "data": {
      "text/plain": [
       "list"
      ]
     },
     "execution_count": 101,
     "metadata": {},
     "output_type": "execute_result"
    }
   ],
   "source": [
    "type(j6)"
   ]
  },
  {
   "cell_type": "code",
   "execution_count": 102,
   "id": "74eac28a-f83c-4ff0-8995-dc2c0f3edc93",
   "metadata": {},
   "outputs": [
    {
     "ename": "TypeError",
     "evalue": "'set' object is not callable",
     "output_type": "error",
     "traceback": [
      "\u001b[0;31m---------------------------------------------------------------------------\u001b[0m",
      "\u001b[0;31mTypeError\u001b[0m                                 Traceback (most recent call last)",
      "Cell \u001b[0;32mIn[102], line 1\u001b[0m\n\u001b[0;32m----> 1\u001b[0m \u001b[38;5;28;43mset\u001b[39;49m\u001b[43m(\u001b[49m\u001b[43mj6\u001b[49m\u001b[43m)\u001b[49m\n",
      "\u001b[0;31mTypeError\u001b[0m: 'set' object is not callable"
     ]
    }
   ],
   "source": [
    "set(j6)"
   ]
  },
  {
   "cell_type": "code",
   "execution_count": null,
   "id": "25b3487c-9de3-4f8a-a78a-50479767a6cd",
   "metadata": {},
   "outputs": [],
   "source": []
  }
 ],
 "metadata": {
  "kernelspec": {
   "display_name": "Python 3 (ipykernel)",
   "language": "python",
   "name": "python3"
  },
  "language_info": {
   "codemirror_mode": {
    "name": "ipython",
    "version": 3
   },
   "file_extension": ".py",
   "mimetype": "text/x-python",
   "name": "python",
   "nbconvert_exporter": "python",
   "pygments_lexer": "ipython3",
   "version": "3.10.8"
  }
 },
 "nbformat": 4,
 "nbformat_minor": 5
}
